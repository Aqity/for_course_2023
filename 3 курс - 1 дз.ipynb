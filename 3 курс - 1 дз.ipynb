{
 "cells": [
  {
   "cell_type": "markdown",
   "metadata": {
    "id": "S725w4FMgGQE"
   },
   "source": [
    "Задача 1. \n",
    "\n",
    "Напишите программу, которая принимает на вход число секунд и возвращает ответ в часах, минутах и секундах в виде 12:13:14. Подсказка: нужно использовать остаток от деления и целочисленное деление, а также параметр sep функции print(). Также можно воспользоваться функцией divmod(), но это для продвинутых."
   ]
  },
  {
   "cell_type": "code",
   "execution_count": 1,
   "metadata": {
    "id": "OiXzgCcTgC7z"
   },
   "outputs": [
    {
     "name": "stdout",
     "output_type": "stream",
     "text": [
      "300\n",
      "0:5:0\n"
     ]
    }
   ],
   "source": [
    "x = int(input())\n",
    "z = x//3600\n",
    "h = x-(z*3600)\n",
    "y = h//60\n",
    "w = h%60\n",
    "print(f\"{z}:{y}:{w}\")"
   ]
  },
  {
   "cell_type": "markdown",
   "metadata": {
    "id": "eAzjRy5qgbos"
   },
   "source": [
    "Задача 2. \n",
    "\n",
    "Напишите программу, которая переводит вес из килограммов в фунты. (Вес вводится пользователем)"
   ]
  },
  {
   "cell_type": "code",
   "execution_count": 26,
   "metadata": {
    "id": "34xD1ujugmIr"
   },
   "outputs": [
    {
     "name": "stdout",
     "output_type": "stream",
     "text": [
      "Введите кг:\n",
      "6\n",
      "13.200000000000001\n"
     ]
    }
   ],
   "source": [
    "print(f\"Введите кг:\")\n",
    "x = float(input())\n",
    "x *= 2.2\n",
    "print(f\"{x}\")"
   ]
  },
  {
   "cell_type": "markdown",
   "metadata": {
    "id": "REk8Ryh3gnVb"
   },
   "source": [
    "Задача 3.\n",
    "\n",
    "Напишите программу, которая рассчитывает процент от целого: пользователь вводит объем целого и объем части. Программа должна вывести \"хх%\"."
   ]
  },
  {
   "cell_type": "code",
   "execution_count": 34,
   "metadata": {
    "id": "MlU7WYtogs7M"
   },
   "outputs": [
    {
     "name": "stdout",
     "output_type": "stream",
     "text": [
      "Введите объем целого:\n",
      "598\n",
      "Введите объем части:\n",
      "7\n",
      "1%\n"
     ]
    }
   ],
   "source": [
    "print(f\"Введите объем целого:\")\n",
    "x = int(input())\n",
    "print(f\"Введите объем части:\")\n",
    "y = int(input())\n",
    "w = (100*y)//x\n",
    "print(f\"{w}%\")"
   ]
  },
  {
   "cell_type": "markdown",
   "metadata": {
    "id": "uckPzU_cgukj"
   },
   "source": [
    "Задача 4. \n",
    "\n",
    "Пользователь вводит строчку. Наша задача - вернуть ее задом наперед (н-р, \"йцукен\" должно превратиться в \"некуцй\"). Используйте срезы."
   ]
  },
  {
   "cell_type": "code",
   "execution_count": 37,
   "metadata": {
    "id": "O3M8ytzlg3wE"
   },
   "outputs": [
    {
     "name": "stdout",
     "output_type": "stream",
     "text": [
      "йцукен\n",
      "некуцй\n"
     ]
    }
   ],
   "source": [
    "x = input()[::-1]\n",
    "print(x)"
   ]
  },
  {
   "cell_type": "markdown",
   "metadata": {
    "id": "7xbHAfesg458"
   },
   "source": [
    "Задача 5. \n",
    "\n",
    "Пользователь вводит строчку, в которой попадаются символы \"@\". Нужно удалить все такие символы."
   ]
  },
  {
   "cell_type": "code",
   "execution_count": 1,
   "metadata": {
    "id": "8HyJ17ydg8_8"
   },
   "outputs": [
    {
     "name": "stdout",
     "output_type": "stream",
     "text": [
      "dbehbehwbd@dvbhb@hbhdbvh @ hfrhfy@\n",
      "dbehbehwbddvbhbhbhdbvh  hfrhfy\n"
     ]
    }
   ],
   "source": [
    "x = input()\n",
    "y = \"@\"\n",
    "\n",
    "w = ''.join([char for char in x if char not in y])\n",
    "\n",
    "print(w)"
   ]
  },
  {
   "cell_type": "markdown",
   "metadata": {
    "id": "rNgjN_Rog99E"
   },
   "source": [
    "Задача 6. \n",
    "\n",
    "Пользователь ввел несколько слов, разделенных пробелами. Посчитайте количество слов в строке (если знаете несколько способов - сделайте это несколькими способами)."
   ]
  },
  {
   "cell_type": "code",
   "execution_count": 48,
   "metadata": {
    "id": "Modj7OKUhA8s"
   },
   "outputs": [
    {
     "name": "stdout",
     "output_type": "stream",
     "text": [
      "bhefg1gdhe hh1dwd\n",
      "3\n"
     ]
    }
   ],
   "source": [
    "x = input().split()\n",
    "print(len(x))"
   ]
  },
  {
   "cell_type": "code",
   "execution_count": 58,
   "metadata": {},
   "outputs": [
    {
     "name": "stdout",
     "output_type": "stream",
     "text": [
      "ersf       eee eetfg rtgrgrgkjwejqwekjv  \n",
      "4\n"
     ]
    }
   ],
   "source": [
    "x = input()\n",
    "n = 0\n",
    "for i in range(len(x)):\n",
    "    if x[i] == \" \" and x[i-1] != \" \":\n",
    "        n+=1\n",
    "if x[-1] != \" \":\n",
    "    n+=1\n",
    "print(n)"
   ]
  },
  {
   "cell_type": "markdown",
   "metadata": {
    "id": "r3TehkynhCK0"
   },
   "source": [
    "Задача 7. \n",
    "\n",
    "Пользователь вводит некий инфинитив глагола. Программа должна проверить, заканчивается ли глагол на -ся и содержит ли он приставку \"пере\" (т.е., начинается с нее). Можно использовать методы, а можно срезы."
   ]
  },
  {
   "cell_type": "code",
   "execution_count": 8,
   "metadata": {
    "id": "ePS6DDKOhGRy"
   },
   "outputs": [
    {
     "name": "stdout",
     "output_type": "stream",
     "text": [
      "перевелся\n",
      "True\n"
     ]
    }
   ],
   "source": [
    "word = str(input())\n",
    "if word[:4] == \"пере\" and word[-2:] == \"ся\":\n",
    "    print(True)\n",
    "else:\n",
    "    print(False)"
   ]
  },
  {
   "cell_type": "markdown",
   "metadata": {
    "id": "KEbDUf-fhHrK"
   },
   "source": [
    "Задача 8. \n",
    "\n",
    "Дано положительное действительное число X. Выведите его первую цифру после десятичной точки."
   ]
  },
  {
   "cell_type": "code",
   "execution_count": 16,
   "metadata": {
    "id": "U8ljbLqohS8M"
   },
   "outputs": [
    {
     "name": "stdout",
     "output_type": "stream",
     "text": [
      "2345678.08976554\n",
      "0\n"
     ]
    }
   ],
   "source": [
    "number = float(input())\n",
    "x = round(number, 2)\n",
    "x = str(x)\n",
    "y = x[-2]\n",
    "print(y)"
   ]
  },
  {
   "cell_type": "markdown",
   "metadata": {
    "id": "FNv05ieohUC7"
   },
   "source": [
    "Задача 9. \n",
    "\n",
    "Пишем скрипт, который проверит, есть ли символ *а* в введенной пользователем строке, подсчитает, сколько в строке символов *а*, и выведет индексы первого и последнего их вхождения."
   ]
  },
  {
   "cell_type": "code",
   "execution_count": 52,
   "metadata": {
    "id": "ZEvx8ZJOhb2j",
    "scrolled": true
   },
   "outputs": [
    {
     "name": "stdout",
     "output_type": "stream",
     "text": [
      "ffavvagavfyghnjk\n",
      "3 2 7\n"
     ]
    }
   ],
   "source": [
    "x = str(input())\n",
    "n = 0\n",
    "i = 0\n",
    "a = 0\n",
    "b = 0\n",
    "for i in range(len(x)):\n",
    "    if x[i] == \"a\":\n",
    "        n += 1\n",
    "        b = i\n",
    "        if n == 1:\n",
    "            a = i\n",
    "print(n, a, b)"
   ]
  },
  {
   "cell_type": "markdown",
   "metadata": {
    "id": "bPbu167whgwb"
   },
   "source": [
    "Задача 10. \n",
    "\n",
    "Вводится целое число n. Программа должна вывести \"n коров\", при этом согласовать слово \"корова\" с числительным. Число может быть сколь угодно большим."
   ]
  },
  {
   "cell_type": "code",
   "execution_count": 61,
   "metadata": {
    "id": "-_9mCMVHho-8"
   },
   "outputs": [
    {
     "name": "stdout",
     "output_type": "stream",
     "text": [
      "48509230\n",
      "48509230 коров\n"
     ]
    }
   ],
   "source": [
    "n = str(input())\n",
    "if n[-1] == \"1\":\n",
    "    print(n, 'корова')\n",
    "if n[-1] in \"234\":\n",
    "    print(n, 'коровы')\n",
    "if n[-1] in \"567890\":\n",
    "    print(n, 'коров')"
   ]
  }
 ],
 "metadata": {
  "colab": {
   "authorship_tag": "ABX9TyOClI5WaRZ1QDhsr1dJ8vyK",
   "collapsed_sections": [],
   "provenance": []
  },
  "kernelspec": {
   "display_name": "Python 3 (ipykernel)",
   "language": "python",
   "name": "python3"
  },
  "language_info": {
   "codemirror_mode": {
    "name": "ipython",
    "version": 3
   },
   "file_extension": ".py",
   "mimetype": "text/x-python",
   "name": "python",
   "nbconvert_exporter": "python",
   "pygments_lexer": "ipython3",
   "version": "3.11.4"
  }
 },
 "nbformat": 4,
 "nbformat_minor": 1
}
