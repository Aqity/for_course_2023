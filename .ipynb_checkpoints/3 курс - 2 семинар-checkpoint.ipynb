{
 "cells": [
  {
   "cell_type": "markdown",
   "metadata": {
    "id": "82BfNJX7e5M8"
   },
   "source": [
    "Пользователь вводит число. Считайте его с помощью функции input(), превратите в тип int и проверьте, является ли оно четным. "
   ]
  },
  {
   "cell_type": "code",
   "execution_count": 11,
   "metadata": {
    "id": "w6kmRElme2bw"
   },
   "outputs": [
    {
     "name": "stdout",
     "output_type": "stream",
     "text": [
      "5\n",
      "false\n"
     ]
    }
   ],
   "source": [
    "n = int(input())\n",
    "if n % 2 == 0:\n",
    "    print('true')\n",
    "else:\n",
    "    print('false')"
   ]
  },
  {
   "cell_type": "markdown",
   "metadata": {
    "id": "IBcltVyDfC5E"
   },
   "source": [
    "Как узнать последнюю цифру целого числа?"
   ]
  },
  {
   "cell_type": "code",
   "execution_count": 14,
   "metadata": {
    "id": "dMImXaUQfF5k"
   },
   "outputs": [
    {
     "name": "stdout",
     "output_type": "stream",
     "text": [
      "34324\n",
      "4\n"
     ]
    }
   ],
   "source": [
    "n = int(input())\n",
    "print(n%10)"
   ]
  },
  {
   "cell_type": "markdown",
   "metadata": {
    "id": "V4M0groKfGJT"
   },
   "source": [
    "С помощью арифметических операций // и % вычислите сумму цифр трехзначного целого числа. "
   ]
  },
  {
   "cell_type": "code",
   "execution_count": 24,
   "metadata": {
    "id": "T_-Mcqq0fLDb"
   },
   "outputs": [
    {
     "name": "stdout",
     "output_type": "stream",
     "text": [
      "346\n",
      "13\n"
     ]
    }
   ],
   "source": [
    "n = int(input())\n",
    "x = n % 10\n",
    "y = n // 100\n",
    "c = (n % 100) // 10\n",
    "print (x + y + c)"
   ]
  },
  {
   "cell_type": "markdown",
   "metadata": {
    "id": "3gJnHlf6fLQr"
   },
   "source": [
    "Вводится четырехзначное число - год: проверьте, является ли введенный год високосным (посмотрите в Википедии, какие условия должны выполняться для этого). "
   ]
  },
  {
   "cell_type": "code",
   "execution_count": 26,
   "metadata": {
    "id": "4Dl8z_ApfS78"
   },
   "outputs": [
    {
     "name": "stdout",
     "output_type": "stream",
     "text": [
      "1987\n",
      "не високосный год\n"
     ]
    }
   ],
   "source": [
    "n = int(input())\n",
    "if n % 4 == 0:\n",
    "    print('високосный год')\n",
    "else:\n",
    "    print('не високосный год')"
   ]
  },
  {
   "cell_type": "markdown",
   "metadata": {
    "id": "34428I2ZfXQj"
   },
   "source": [
    "#### Строки"
   ]
  },
  {
   "cell_type": "markdown",
   "metadata": {
    "id": "jodcQvYBfYzr"
   },
   "source": [
    "Как узнать, что пользователь при вводе просто нажал enter?"
   ]
  },
  {
   "cell_type": "code",
   "execution_count": 38,
   "metadata": {
    "id": "0wubl7wBfcI0"
   },
   "outputs": [
    {
     "name": "stdout",
     "output_type": "stream",
     "text": [
      "\n",
      "enter!!!!!!!\n"
     ]
    }
   ],
   "source": [
    "s = input()\n",
    "if s == '':\n",
    "    print(\"enter!!!!!!!\")\n",
    "else:\n",
    "    print(\"enter doesn't detected\")"
   ]
  },
  {
   "cell_type": "markdown",
   "metadata": {
    "id": "QF6p5IeyfdKc"
   },
   "source": [
    "Пользователь вводит строку. проверьте, является ли она числом, и увеличьте это число на единицу."
   ]
  },
  {
   "cell_type": "code",
   "execution_count": 22,
   "metadata": {
    "id": "oB7J0pn4fflM"
   },
   "outputs": [
    {
     "name": "stdout",
     "output_type": "stream",
     "text": [
      "483\n",
      "это не число\n",
      "<class 'str'>\n"
     ]
    }
   ],
   "source": [
    "n = input()\n",
    "if type(n) == type(int):\n",
    "    n = n + 1\n",
    "    print(n)\n",
    "else:\n",
    "    print('это не число')\n",
    "print(type(n))"
   ]
  },
  {
   "cell_type": "markdown",
   "metadata": {
    "id": "BoroO1sRffqy"
   },
   "source": [
    "Пользователь вводит строку. Проверьте, похожа ли она на название песни (слова начинаются с заглавной буквы)."
   ]
  },
  {
   "cell_type": "code",
   "execution_count": 24,
   "metadata": {
    "id": "rpqexBORfhyM"
   },
   "outputs": [
    {
     "name": "stdout",
     "output_type": "stream",
     "text": [
      "JJdjj JJjj\n",
      "false\n"
     ]
    }
   ],
   "source": [
    "n = str(input())\n",
    "if n.istitle():\n",
    "    print('true')\n",
    "else: \n",
    "    print('false')"
   ]
  },
  {
   "cell_type": "markdown",
   "metadata": {
    "id": "FWQbEUrDfh37"
   },
   "source": [
    "Пользователь вводит имя и фамилию через пробел. Выведите имя, а потом фамилию на отдельных строках (нужно воспользоваться срезами и методом find)."
   ]
  },
  {
   "cell_type": "code",
   "execution_count": 11,
   "metadata": {
    "id": "VFyKWNrnfjsE"
   },
   "outputs": [
    {
     "name": "stdout",
     "output_type": "stream",
     "text": [
      "dfsf dsfdf\n",
      "dfsf\n",
      "dsfdf\n"
     ]
    }
   ],
   "source": [
    "isimvesoyadi = input()\n",
    "j = isimvesoyadi.find(' ')\n",
    "print(isimvesoyadi[:j])\n",
    "print(isimvesoyadi[j+1:])"
   ]
  },
  {
   "cell_type": "markdown",
   "metadata": {
    "id": "gomfsZLlfmcs"
   },
   "source": [
    "Пользователь вводит строку - название файла с расширением. Выведите только расширение (все, что после точки). Точка может встречаться в самом названии файла, а в расширении - нет."
   ]
  },
  {
   "cell_type": "code",
   "execution_count": 13,
   "metadata": {
    "id": "FWcouu2RfnFL"
   },
   "outputs": [
    {
     "name": "stdout",
     "output_type": "stream",
     "text": [
      "effe.effw\n",
      "effw\n"
     ]
    }
   ],
   "source": [
    "nokta = input()\n",
    "j = nokta.find('.')\n",
    "print(nokta[j+1:])"
   ]
  },
  {
   "cell_type": "markdown",
   "metadata": {
    "id": "GsrWoalmfoxf"
   },
   "source": [
    "Вычислите сумму цифр трехзначного числа, используя индексы строк. \n"
   ]
  },
  {
   "cell_type": "code",
   "execution_count": 25,
   "metadata": {
    "id": "1TaS2MpYfp4c"
   },
   "outputs": [
    {
     "name": "stdout",
     "output_type": "stream",
     "text": [
      "432\n",
      "9\n"
     ]
    }
   ],
   "source": [
    "sayi = input()\n",
    "n = int(sayi[0])\n",
    "c = int(sayi[1])\n",
    "b = int(sayi[2])\n",
    "print(n+c+b)"
   ]
  },
  {
   "cell_type": "code",
   "execution_count": null,
   "metadata": {},
   "outputs": [],
   "source": []
  }
 ],
 "metadata": {
  "colab": {
   "authorship_tag": "ABX9TyP5Ft57sTxspcux6/h0tGk9",
   "collapsed_sections": [],
   "provenance": []
  },
  "kernelspec": {
   "display_name": "Python 3 (ipykernel)",
   "language": "python",
   "name": "python3"
  },
  "language_info": {
   "codemirror_mode": {
    "name": "ipython",
    "version": 3
   },
   "file_extension": ".py",
   "mimetype": "text/x-python",
   "name": "python",
   "nbconvert_exporter": "python",
   "pygments_lexer": "ipython3",
   "version": "3.11.4"
  }
 },
 "nbformat": 4,
 "nbformat_minor": 1
}
